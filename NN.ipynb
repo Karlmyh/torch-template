{
 "cells": [
  {
   "cell_type": "code",
   "execution_count": 1,
   "id": "e055e89e",
   "metadata": {
    "scrolled": true
   },
   "outputs": [],
   "source": [
    "import torch\n",
    "torch.set_default_tensor_type(torch.DoubleTensor)\n",
    "from torch.autograd import Variable\n",
    "from torch.nn import functional as F\n",
    "from torchmetrics import Accuracy, Recall, Precision, Specificity, ConfusionMatrix\n",
    "from sklearn.model_selection import train_test_split\n",
    "\n",
    "from sklearn.metrics import precision_recall_curve, average_precision_score,roc_curve, auc, precision_score, recall_score, f1_score, confusion_matrix, accuracy_score\n",
    "\n",
    "import numpy as np\n",
    "from IPython.core.interactiveshell import InteractiveShell\n",
    "InteractiveShell.ast_node_interactivity = \"all\"\n",
    "\n",
    "import matplotlib.pyplot as plt\n",
    "from collections import Counter\n",
    "import random\n",
    "\n",
    "\n",
    "\n",
    "\n"
   ]
  },
  {
   "cell_type": "code",
   "execution_count": 11,
   "id": "5029488d",
   "metadata": {},
   "outputs": [],
   "source": [
    "\n",
    "# Create Tensors to hold input and outputs.\n",
    "beta_1=np.append(np.array([4,4,-8,-4,2,8,-4,4,-2,4]),np.zeros(90))\n",
    "beta_2=np.append(np.array([-2,-2,4,-2,1,-4,2,-2,-1,2]),np.zeros(90))\n",
    "beta_3=np.append(np.array([-1.5,-1.5,3,-1.5,-0.75,-3,1.5,-1.5,0.75,1.5]),np.zeros(90))\n",
    "beta_1=beta_1.reshape(-1,1)\n",
    "beta_2=beta_2.reshape(-1,1)\n",
    "beta_3=beta_3.reshape(-1,1)\n",
    "n1=200\n",
    "n2=175\n",
    "n3=150\n",
    "p=100\n",
    "corval=0\n",
    "prior=5\n",
    "\n",
    "def sigmoid(X):\n",
    "    return .5 * (1 + np.tanh(.5 * X))\n",
    "\n",
    "def generaet_data(corval,beta,n,p):\n",
    "    mean=np.zeros(p)\n",
    "    sigma=np.array([[corval**abs(i-j) for i in range(p)] for j in range(p)])\n",
    "    x=torch.tensor(np.random.multivariate_normal(mean=mean,cov=sigma,size=n))\n",
    "    Pi_test= sigmoid(x@beta)\n",
    "    y=np.random.binomial(1,Pi_test.ravel(),n)\n",
    "    y=torch.tensor(y,dtype=torch.double)\n",
    "\n",
    "    return x,y\n"
   ]
  },
  {
   "cell_type": "code",
   "execution_count": 22,
   "id": "db764cd5",
   "metadata": {},
   "outputs": [],
   "source": [
    "\n",
    "def setup_seed(seed):\n",
    "    torch.manual_seed(seed)\n",
    "    torch.cuda.manual_seed_all(seed)\n",
    "    np.random.seed(seed)\n",
    "    random.seed(seed)\n",
    "    torch.backends.cudnn.deterministic = True\n",
    "# 设置随机数种子\n",
    "setup_seed(1)\n",
    "\n",
    "# generation of training and test data\n",
    "x1,y1=generaet_data(corval,beta_1,n1,p)\n",
    "x2,y2=generaet_data(corval,beta_2,n2,p)\n",
    "x3,y3=generaet_data(corval,beta_3,n3,p)\n",
    "\n",
    "train_x1, test_x1, train_y1, test_y1= train_test_split(x1,y1, test_size=0.2, random_state=1)\n",
    "train_x2, test_x2, train_y2, test_y2= train_test_split(x2,y2, test_size=0.2, random_state=1)\n",
    "train_x3, test_x3, train_y3, test_y3= train_test_split(x3,y3, test_size=0.2, random_state=1)\n",
    "\n",
    "#test_x1,test_y1=generaet_data(corval,beta_1,n_test,p)\n",
    "#test_x2,test_y2=generaet_data(corval,beta_2,n_test,p)\n",
    "#test_x3,test_y3=generaet_data(corval,beta_3,n_test,p)\n"
   ]
  },
  {
   "cell_type": "code",
   "execution_count": 23,
   "id": "ba3842e0",
   "metadata": {},
   "outputs": [
    {
     "data": {
      "text/plain": [
       "tensor([[ 1.1562e+00, -6.7676e-01, -2.9011e-02,  ..., -1.0559e+00,\n",
       "         -1.4391e+00, -6.0677e-01],\n",
       "        [-3.5220e-01,  1.6572e-01,  1.4609e+00,  ..., -1.6776e+00,\n",
       "         -1.3760e-03,  7.8600e-01],\n",
       "        [ 9.6538e-01, -3.3180e-01,  1.0211e+00,  ..., -1.2069e-01,\n",
       "         -1.0751e+00, -3.9528e-01],\n",
       "        ...,\n",
       "        [-1.0532e+00,  2.7305e-01,  3.2043e-01,  ...,  2.4501e+00,\n",
       "         -4.6602e-02, -4.2758e-01],\n",
       "        [ 2.1007e-01, -4.2998e-02,  1.1864e+00,  ...,  6.7503e-01,\n",
       "         -8.6875e-01,  4.5822e-01],\n",
       "        [ 6.1372e-01, -8.2253e-02, -1.4422e-01,  ...,  6.7524e-01,\n",
       "          2.2452e-02, -8.7104e-01]])"
      ]
     },
     "execution_count": 23,
     "metadata": {},
     "output_type": "execute_result"
    }
   ],
   "source": [
    "train_x1"
   ]
  },
  {
   "cell_type": "code",
   "execution_count": 39,
   "id": "db8133a3",
   "metadata": {},
   "outputs": [],
   "source": [
    "################## training stage ##################\n",
    "    \n",
    "# set hyperparamters\n",
    "lambda1,lambda2 = 0.01,0.0001\n",
    "learning_rate=0.1\n",
    "max_iteration=1000\n",
    "\n",
    "# switch training set\n",
    "inputs_1,targets_1 = train_x1,train_y1\n",
    "inputs_2,targets_2 = train_x2,train_y2\n",
    "inputs_3,targets_3 = train_x3,train_y3\n",
    "\n",
    "# switching testing set\n",
    "test_inputs_1, test_targets_1 = test_x1,test_y1\n",
    "test_inputs_2, test_targets_2 = test_x2,test_y2\n",
    "test_inputs_3, test_targets_3 = test_x3,test_y3\n",
    "\n",
    "# record loss descent\n",
    "BCE=[]\n",
    "\n",
    "\n",
    "# main nn object\n",
    "class MLP(torch.nn.Module):\n",
    "    def __init__(self,seed):\n",
    "        super(MLP, self).__init__()\n",
    "        torch.manual_seed(seed)\n",
    "        self.linear1 = torch.nn.Parameter(torch.randn(p))\n",
    "        self.linear2 = torch.nn.Linear(p,10)\n",
    "        self.linear3 = torch.nn.Linear(10,10)\n",
    "        self.linear4 = torch.nn.Linear(10,1)\n",
    "\n",
    "    def forward(self, x):\n",
    "        layer1_out = self.linear1*x\n",
    "        layer2_out = F.relu(self.linear2(layer1_out))\n",
    "        layer3_out = F.relu(self.linear3(layer2_out))\n",
    "        out= torch.sigmoid(self.linear4(layer3_out))\n",
    "        return out, layer1_out, layer2_out,layer3_out \n",
    "    \n",
    "\n",
    "\n",
    "model_1=MLP(seed=1)\n",
    "model_2=MLP(seed=1)\n",
    "model_3=MLP(seed=1)\n",
    "\n",
    "loss_fn = torch.nn.BCELoss()\n",
    "params_to_optimize=list(model_1.parameters())+list(model_2.parameters())+list(model_3.parameters())\n",
    "optimizer = torch.optim.SGD(params_to_optimize, lr=learning_rate)\n",
    "\n",
    "# learning rate decay scheme\n",
    "scheduler = torch.optim.lr_scheduler.MultiStepLR(optimizer, milestones=[300,600,900], gamma=0.01)\n",
    "\n",
    "# loop for max_iteration times\n",
    "for t in range(max_iteration):\n",
    "    \n",
    "    # renew optimizer\n",
    "    optimizer.zero_grad()\n",
    "    \n",
    "    # forward propagate\n",
    "    out_1, layer1_out_1, layer2_out_1,layer3_out_1= model_1(inputs_1)\n",
    "    out_2, layer1_out_2, layer2_out_2,layer3_out_2= model_2(inputs_2)\n",
    "    out_3, layer1_out_3, layer2_out_3,layer3_out_3= model_3(inputs_3)\n",
    "    \n",
    "    \n",
    "    \n",
    "    # extract parameters\n",
    "    #[:-1] for leaving out bias term#\n",
    "    model_1_all_linear1_params = model_1.linear1\n",
    "    model_1_all_linear2_params= torch.cat([x.view(-1) for x in model_1.linear2.parameters()][:-1])\n",
    "    model_1_all_linear3_params= torch.cat([x.view(-1) for x in model_1.linear3.parameters()][:-1])\n",
    "    model_1_all_linear4_params= torch.cat([x.view(-1) for x in model_1.linear4.parameters()][:-1])\n",
    "    \n",
    "    model_2_all_linear1_params = model_1.linear1\n",
    "    model_2_all_linear2_params= torch.cat([x.view(-1) for x in model_2.linear2.parameters()][:-1])\n",
    "    model_2_all_linear3_params= torch.cat([x.view(-1) for x in model_2.linear3.parameters()][:-1])\n",
    "    model_2_all_linear4_params= torch.cat([x.view(-1) for x in model_2.linear4.parameters()][:-1])\n",
    "    \n",
    "    model_3_all_linear1_params = model_3.linear1\n",
    "    model_3_all_linear2_params= torch.cat([x.view(-1) for x in model_3.linear2.parameters()][:-1])\n",
    "    model_3_all_linear3_params= torch.cat([x.view(-1) for x in model_3.linear3.parameters()][:-1])\n",
    "    model_3_all_linear4_params= torch.cat([x.view(-1) for x in model_3.linear4.parameters()][:-1])\n",
    "    \n",
    "\n",
    "    # compute loss\n",
    "\n",
    "    all_linear1_params=torch.cat(( model_1_all_linear1_params.reshape(1,-1),  model_2_all_linear1_params.reshape(1,-1), model_3_all_linear1_params.reshape(1,-1)),0)\n",
    "    all_linear234_params=torch.cat((model_2_all_linear2_params,model_2_all_linear3_params, model_2_all_linear4_params,model_3_all_linear2_params,model_3_all_linear3_params,model_3_all_linear4_params),0)\n",
    "    \n",
    "    BCE_loss_1 = loss_fn(out_1, targets_1.reshape(-1,1))\n",
    "    BCE_loss_2 = loss_fn(out_2, targets_2.reshape(-1,1))\n",
    "    BCE_loss_3 = loss_fn(out_3, targets_3.reshape(-1,1))\n",
    "    \n",
    "    l1_regularization = lambda1 * torch.sum(torch.norm(all_linear1_params[:,prior:],p=2,dim=0))\n",
    "    l2_regularization = lambda2 * torch.sum(all_linear234_params.pow(2))\n",
    "    BCE_loss=BCE_loss_1+BCE_loss_2+BCE_loss_3\n",
    "    loss =BCE_loss+l1_regularization +l2_regularization\n",
    "\n",
    "    # record loss\n",
    "    BCE.append(BCE_loss.item())\n",
    "    \n",
    "    # compute derivative\n",
    "    loss.backward()\n",
    "    \n",
    "    # gradient descent\n",
    "    optimizer.step()\n",
    "    \n",
    "    # learning rate decay\n",
    "    scheduler.step()\n"
   ]
  },
  {
   "cell_type": "code",
   "execution_count": null,
   "id": "4e60960d",
   "metadata": {},
   "outputs": [],
   "source": []
  },
  {
   "cell_type": "code",
   "execution_count": 40,
   "id": "042f5c1b",
   "metadata": {},
   "outputs": [
    {
     "data": {
      "text/plain": [
       "tensor(0.0162, grad_fn=<BinaryCrossEntropyBackward0>)"
      ]
     },
     "execution_count": 40,
     "metadata": {},
     "output_type": "execute_result"
    },
    {
     "data": {
      "text/plain": [
       "tensor(0.0334, grad_fn=<AddBackward0>)"
      ]
     },
     "execution_count": 40,
     "metadata": {},
     "output_type": "execute_result"
    }
   ],
   "source": [
    "BCE_loss_1\n",
    "BCE_loss"
   ]
  },
  {
   "cell_type": "code",
   "execution_count": 41,
   "id": "26c21a08",
   "metadata": {},
   "outputs": [
    {
     "data": {
      "text/plain": [
       "0.625"
      ]
     },
     "execution_count": 41,
     "metadata": {},
     "output_type": "execute_result"
    },
    {
     "data": {
      "text/plain": [
       "0.6428571428571429"
      ]
     },
     "execution_count": 41,
     "metadata": {},
     "output_type": "execute_result"
    },
    {
     "data": {
      "text/plain": [
       "0.47368421052631576"
      ]
     },
     "execution_count": 41,
     "metadata": {},
     "output_type": "execute_result"
    },
    {
     "data": {
      "text/plain": [
       "0.7619047619047619"
      ]
     },
     "execution_count": 41,
     "metadata": {},
     "output_type": "execute_result"
    },
    {
     "data": {
      "text/plain": [
       "0.5454545454545454"
      ]
     },
     "execution_count": 41,
     "metadata": {},
     "output_type": "execute_result"
    },
    {
     "data": {
      "text/plain": [
       "array([[16,  5],\n",
       "       [10,  9]])"
      ]
     },
     "execution_count": 41,
     "metadata": {},
     "output_type": "execute_result"
    }
   ],
   "source": [
    "################## testing stage ##################\n",
    "\n",
    "# compute predictions on test set\n",
    "prediction_1= (model_1(test_x1)[0]>0.5).clone().double()\n",
    "target_1= test_y1.reshape(-1,1)\n",
    "\n",
    "# compute metrics\n",
    "accuracy_score(target_1,prediction_1)\n",
    "precision_score(target_1,prediction_1)\n",
    "recall_score(target_1,prediction_1)#TPR\n",
    "confusion_matrix_1=confusion_matrix(target_1,prediction_1)\n",
    "confusion_matrix_1[0,0]/(sum(confusion_matrix_1[0,:]))#TNR\n",
    "f1_score(target_1,prediction_1)\n",
    "confusion_matrix(target_1,prediction_1)"
   ]
  },
  {
   "cell_type": "code",
   "execution_count": null,
   "id": "8bd68dbd",
   "metadata": {},
   "outputs": [],
   "source": []
  },
  {
   "cell_type": "code",
   "execution_count": 10,
   "id": "458ae939",
   "metadata": {},
   "outputs": [
    {
     "data": {
      "image/png": "[encoded data removed]",
      "text/plain": [
       "<Figure size 432x288 with 1 Axes>"
      ]
     },
     "metadata": {
      "needs_background": "light"
     },
     "output_type": "display_data"
    }
   ],
   "source": [
    "# decaying curve of loss \n",
    "## in log scale\n",
    "\n",
    "fig, ax = plt.subplots()\n",
    "_=ax.plot(np.log(BCE))\n",
    "_=ax.set_xlabel(\"iteration\")\n",
    "_=ax.set_ylabel(\"log BCE loss\")\n"
   ]
  },
  {
   "cell_type": "code",
   "execution_count": null,
   "id": "eacf9ddf",
   "metadata": {},
   "outputs": [],
   "source": []
  },
  {
   "cell_type": "code",
   "execution_count": null,
   "id": "07021713",
   "metadata": {},
   "outputs": [],
   "source": []
  },
  {
   "cell_type": "code",
   "execution_count": null,
   "id": "069e7b1f",
   "metadata": {},
   "outputs": [],
   "source": []
  },
  {
   "cell_type": "code",
   "execution_count": 8,
   "id": "1cdd2208",
   "metadata": {},
   "outputs": [],
   "source": [
    "################## packaging into function ##################\n",
    "\n",
    "def hyperparameter_tuning(inputs,targets,test_inputs,test_targets,lambda1,lambda2,learning_rate, max_iteration):\n",
    "\n",
    "\n",
    "    # record loss descent\n",
    "    BCE=[]\n",
    "\n",
    "    # main nn object\n",
    "    class MLP(torch.nn.Module):\n",
    "        def __init__(self):\n",
    "            super(MLP, self).__init__()\n",
    "            self.linear1 = torch.nn.Linear(100,100)\n",
    "            self.linear2 = torch.nn.Linear(100,10)\n",
    "            self.linear3 = torch.nn.Linear(10,10)\n",
    "            self.linear4 = torch.nn.Linear(10,1)\n",
    "\n",
    "        def forward(self, x):\n",
    "            layer1_out = F.relu(self.linear1(x))\n",
    "            layer2_out = F.relu(self.linear2(layer1_out))\n",
    "            layer3_out = F.relu(self.linear3(layer2_out))\n",
    "            out= torch.sigmoid(self.linear4(layer3_out))\n",
    "            return out, layer1_out, layer2_out,layer3_out \n",
    "\n",
    "\n",
    "\n",
    "\n",
    "    model = MLP()\n",
    "    loss_fn = torch.nn.BCELoss()\n",
    "    optimizer = torch.optim.SGD(model.parameters(), lr=0.1)\n",
    "    # learning rate decay scheme\n",
    "    scheduler = torch.optim.lr_scheduler.MultiStepLR(optimizer, milestones=[300,600,900], gamma=0.05)\n",
    "\n",
    "    # loop for max_iteration times\n",
    "    for t in range(max_iteration):\n",
    "\n",
    "        # renew optimizer\n",
    "        optimizer.zero_grad()\n",
    "\n",
    "        # forward propagate\n",
    "        out, layer1_out, layer2_out,layer3_out= model(inputs)\n",
    "\n",
    "\n",
    "\n",
    "        # extract parameters\n",
    "        #[:-1] for leaving out bias term#\n",
    "        all_linear1_params = torch.cat([x.view(-1) for x in model.linear1.parameters()][:-1])\n",
    "        all_linear2_params = torch.cat([x.view(-1) for x in model.linear2.parameters()][:-1])\n",
    "\n",
    "        # compute loss\n",
    "        BCE_loss = loss_fn(out, targets.reshape(-1,1))\n",
    "        l1_regularization = lambda1 * torch.norm(all_linear1_params, 1)\n",
    "        l2_regularization = lambda2 * torch.norm(all_linear2_params, 2)\n",
    "        loss = BCE_loss + l1_regularization + l2_regularization\n",
    "\n",
    "        # record loss\n",
    "        BCE.append(BCE_loss.item())\n",
    "\n",
    "        # compute derivative\n",
    "        loss.backward()\n",
    "\n",
    "        # gradient descent\n",
    "        optimizer.step()\n",
    "\n",
    "        # learning rate decay\n",
    "        scheduler.step()\n",
    "        \n",
    "        \n",
    "    # compute predictions on test set\n",
    "    prediction  = (model(test_inputs)[0]>0.5).clone().double()\n",
    "    \n",
    "\n",
    "    # compute metrics\n",
    "    acc=accuracy_score(prediction,test_targets)\n",
    "    pre=precision_score(prediction,test_targets)\n",
    "    recall=recall_score(prediction,test_targets)\n",
    "    f1=f1_score(prediction,test_targets)\n",
    "    cof_mat=confusion_matrix(prediction,test_targets)\n",
    "    \n",
    "    # compute sparsity\n",
    "    sparsity=np.array(torch.cat([x.view(-1) for x in model.linear1.parameters()][:-1]).detach().abs()>1e-5).mean()\n",
    "    \n",
    "    \n",
    "    return {\"acc\":acc,\"pre\":pre,\n",
    "            \"recall\":recall,\"f1\":f1,\n",
    "            \"cof_mat\":cof_mat,\"sparsity\":sparsity}"
   ]
  },
  {
   "cell_type": "code",
   "execution_count": 9,
   "id": "202283d8",
   "metadata": {},
   "outputs": [
    {
     "name": "stdout",
     "output_type": "stream",
     "text": [
      "(0, 25)\n"
     ]
    },
    {
     "name": "stderr",
     "output_type": "stream",
     "text": [
      "/usr/local/anaconda3/lib/python3.9/site-packages/sklearn/metrics/_classification.py:1248: UndefinedMetricWarning: Recall is ill-defined and being set to 0.0 due to no true samples. Use `zero_division` parameter to control this behavior.\n",
      "  _warn_prf(average, modifier, msg_start, len(result))\n",
      "/usr/local/anaconda3/lib/python3.9/site-packages/sklearn/metrics/_classification.py:1248: UndefinedMetricWarning: Recall is ill-defined and being set to 0.0 due to no true samples. Use `zero_division` parameter to control this behavior.\n",
      "  _warn_prf(average, modifier, msg_start, len(result))\n",
      "/usr/local/anaconda3/lib/python3.9/site-packages/sklearn/metrics/_classification.py:1248: UndefinedMetricWarning: Recall is ill-defined and being set to 0.0 due to no true samples. Use `zero_division` parameter to control this behavior.\n",
      "  _warn_prf(average, modifier, msg_start, len(result))\n",
      "/usr/local/anaconda3/lib/python3.9/site-packages/sklearn/metrics/_classification.py:1248: UndefinedMetricWarning: Recall is ill-defined and being set to 0.0 due to no true samples. Use `zero_division` parameter to control this behavior.\n",
      "  _warn_prf(average, modifier, msg_start, len(result))\n"
     ]
    },
    {
     "name": "stdout",
     "output_type": "stream",
     "text": [
      "(5, 25)\n"
     ]
    },
    {
     "name": "stderr",
     "output_type": "stream",
     "text": [
      "/usr/local/anaconda3/lib/python3.9/site-packages/sklearn/metrics/_classification.py:1248: UndefinedMetricWarning: Recall is ill-defined and being set to 0.0 due to no true samples. Use `zero_division` parameter to control this behavior.\n",
      "  _warn_prf(average, modifier, msg_start, len(result))\n",
      "/usr/local/anaconda3/lib/python3.9/site-packages/sklearn/metrics/_classification.py:1248: UndefinedMetricWarning: Recall is ill-defined and being set to 0.0 due to no true samples. Use `zero_division` parameter to control this behavior.\n",
      "  _warn_prf(average, modifier, msg_start, len(result))\n",
      "/usr/local/anaconda3/lib/python3.9/site-packages/sklearn/metrics/_classification.py:1248: UndefinedMetricWarning: Recall is ill-defined and being set to 0.0 due to no true samples. Use `zero_division` parameter to control this behavior.\n",
      "  _warn_prf(average, modifier, msg_start, len(result))\n"
     ]
    },
    {
     "name": "stdout",
     "output_type": "stream",
     "text": [
      "(10, 25)\n"
     ]
    },
    {
     "name": "stderr",
     "output_type": "stream",
     "text": [
      "/usr/local/anaconda3/lib/python3.9/site-packages/sklearn/metrics/_classification.py:1248: UndefinedMetricWarning: Recall is ill-defined and being set to 0.0 due to no true samples. Use `zero_division` parameter to control this behavior.\n",
      "  _warn_prf(average, modifier, msg_start, len(result))\n",
      "/usr/local/anaconda3/lib/python3.9/site-packages/sklearn/metrics/_classification.py:1248: UndefinedMetricWarning: Recall is ill-defined and being set to 0.0 due to no true samples. Use `zero_division` parameter to control this behavior.\n",
      "  _warn_prf(average, modifier, msg_start, len(result))\n",
      "/usr/local/anaconda3/lib/python3.9/site-packages/sklearn/metrics/_classification.py:1248: UndefinedMetricWarning: Recall is ill-defined and being set to 0.0 due to no true samples. Use `zero_division` parameter to control this behavior.\n",
      "  _warn_prf(average, modifier, msg_start, len(result))\n",
      "/usr/local/anaconda3/lib/python3.9/site-packages/sklearn/metrics/_classification.py:1248: UndefinedMetricWarning: Recall is ill-defined and being set to 0.0 due to no true samples. Use `zero_division` parameter to control this behavior.\n",
      "  _warn_prf(average, modifier, msg_start, len(result))\n",
      "/usr/local/anaconda3/lib/python3.9/site-packages/sklearn/metrics/_classification.py:1248: UndefinedMetricWarning: Recall is ill-defined and being set to 0.0 due to no true samples. Use `zero_division` parameter to control this behavior.\n",
      "  _warn_prf(average, modifier, msg_start, len(result))\n"
     ]
    },
    {
     "name": "stdout",
     "output_type": "stream",
     "text": [
      "(15, 25)\n"
     ]
    },
    {
     "name": "stderr",
     "output_type": "stream",
     "text": [
      "/usr/local/anaconda3/lib/python3.9/site-packages/sklearn/metrics/_classification.py:1248: UndefinedMetricWarning: Recall is ill-defined and being set to 0.0 due to no true samples. Use `zero_division` parameter to control this behavior.\n",
      "  _warn_prf(average, modifier, msg_start, len(result))\n",
      "/usr/local/anaconda3/lib/python3.9/site-packages/sklearn/metrics/_classification.py:1248: UndefinedMetricWarning: Recall is ill-defined and being set to 0.0 due to no true samples. Use `zero_division` parameter to control this behavior.\n",
      "  _warn_prf(average, modifier, msg_start, len(result))\n",
      "/usr/local/anaconda3/lib/python3.9/site-packages/sklearn/metrics/_classification.py:1248: UndefinedMetricWarning: Recall is ill-defined and being set to 0.0 due to no true samples. Use `zero_division` parameter to control this behavior.\n",
      "  _warn_prf(average, modifier, msg_start, len(result))\n"
     ]
    },
    {
     "name": "stdout",
     "output_type": "stream",
     "text": [
      "(20, 25)\n"
     ]
    },
    {
     "name": "stderr",
     "output_type": "stream",
     "text": [
      "/usr/local/anaconda3/lib/python3.9/site-packages/sklearn/metrics/_classification.py:1248: UndefinedMetricWarning: Recall is ill-defined and being set to 0.0 due to no true samples. Use `zero_division` parameter to control this behavior.\n",
      "  _warn_prf(average, modifier, msg_start, len(result))\n",
      "/usr/local/anaconda3/lib/python3.9/site-packages/sklearn/metrics/_classification.py:1248: UndefinedMetricWarning: Recall is ill-defined and being set to 0.0 due to no true samples. Use `zero_division` parameter to control this behavior.\n",
      "  _warn_prf(average, modifier, msg_start, len(result))\n",
      "/usr/local/anaconda3/lib/python3.9/site-packages/sklearn/metrics/_classification.py:1248: UndefinedMetricWarning: Recall is ill-defined and being set to 0.0 due to no true samples. Use `zero_division` parameter to control this behavior.\n",
      "  _warn_prf(average, modifier, msg_start, len(result))\n"
     ]
    }
   ],
   "source": [
    "\n",
    "# repeated experiment\n",
    "repeat_time=3\n",
    "\n",
    "# parameter grid\n",
    "lamda1_vec=[i for i in np.logspace(-4,-1,5)]\n",
    "lamda2_vec=[i for i in np.logspace(-5,-2,5)]\n",
    "learning_rate, max_iteration=0.1,1000\n",
    "\n",
    "# criterion\n",
    "criterion=\"acc\"\n",
    "criterion_vec=[]\n",
    "\n",
    "\n",
    "# generate axis\n",
    "grid_axis_1=lamda1_vec\n",
    "grid_axis_2=lamda2_vec\n",
    "axis1,axis2=np.meshgrid(grid_axis_1,grid_axis_2)\n",
    "params=np.array([axis1.ravel(),axis2.ravel()]).T\n",
    "\n",
    "\n",
    "\n",
    "for i in range(params.shape[0]):\n",
    "    # print process\n",
    "    if 10*i % int(params.shape[0])==0:\n",
    "        print((i,params.shape[0]))\n",
    "        \n",
    "    # criterion average\n",
    "    criterion_sum=0\n",
    "    \n",
    "    for j in range(repeat_time):\n",
    "\n",
    "        # set seed\n",
    "        _=torch.manual_seed(i*j+j+i)\n",
    "\n",
    "        # simulation setting\n",
    "        x1,y1=generaet_data(corval,beta_1,n1,p)\n",
    "        test_x1,test_y1=generaet_data(corval,beta_1,n_test,p)\n",
    "        inputs,targets = x1,y1\n",
    "        test_inputs, test_targets = test_x1,test_y1\n",
    "        \n",
    "        \n",
    "        # get metric\n",
    "        result=hyperparameter_tuning(inputs,targets,test_inputs,test_targets,params[i,0],params[i,1],learning_rate, max_iteration)\n",
    "        criterion_sum+=result[criterion]\n",
    "    \n",
    "    criterion_vec.append(criterion_sum/repeat_time)\n",
    "    \n",
    "criterion_mat=np.array(criterion_vec).reshape(-1,len(grid_axis_1))\n"
   ]
  },
  {
   "cell_type": "code",
   "execution_count": null,
   "id": "db7a9cec",
   "metadata": {},
   "outputs": [],
   "source": []
  },
  {
   "cell_type": "code",
   "execution_count": 10,
   "id": "ac68b0bc",
   "metadata": {},
   "outputs": [
    {
     "data": {
      "text/plain": [
       "<matplotlib.contour.QuadContourSet at 0x7f4a5b6012b0>"
      ]
     },
     "execution_count": 10,
     "metadata": {},
     "output_type": "execute_result"
    },
    {
     "data": {
      "text/plain": [
       "<matplotlib.colorbar.Colorbar at 0x7f4a5bbc0460>"
      ]
     },
     "execution_count": 10,
     "metadata": {},
     "output_type": "execute_result"
    },
    {
     "data": {
      "text/plain": [
       "Text(0.5, 1.0, 'accuracy')"
      ]
     },
     "execution_count": 10,
     "metadata": {},
     "output_type": "execute_result"
    },
    {
     "data": {
      "image/png": "[encoded data removed]",
      "text/plain": [
       "<Figure size 432x288 with 2 Axes>"
      ]
     },
     "metadata": {
      "needs_background": "light"
     },
     "output_type": "display_data"
    }
   ],
   "source": [
    "plt.contourf(axis1, axis2,criterion_mat ,cmap=plt.cm.Accent)\n",
    "plt.colorbar()\n",
    "plt.title(\"accuracy\")\n",
    "\n"
   ]
  },
  {
   "cell_type": "code",
   "execution_count": 11,
   "id": "e1418b2d",
   "metadata": {},
   "outputs": [
    {
     "data": {
      "text/plain": [
       "<matplotlib.contour.QuadContourSet at 0x7f4a5bb65580>"
      ]
     },
     "execution_count": 11,
     "metadata": {},
     "output_type": "execute_result"
    },
    {
     "data": {
      "text/plain": [
       "<matplotlib.colorbar.Colorbar at 0x7f4a5baff4c0>"
      ]
     },
     "execution_count": 11,
     "metadata": {},
     "output_type": "execute_result"
    },
    {
     "data": {
      "text/plain": [
       "Text(0.5, 1.0, 'accuracy')"
      ]
     },
     "execution_count": 11,
     "metadata": {},
     "output_type": "execute_result"
    },
    {
     "data": {
      "image/png": "[encoded data removed]",
      "text/plain": [
       "<Figure size 432x288 with 2 Axes>"
      ]
     },
     "metadata": {
      "needs_background": "light"
     },
     "output_type": "display_data"
    }
   ],
   "source": [
    "plt.contourf(np.log(axis1), np.log(axis2),criterion_mat ,cmap=plt.cm.Accent)\n",
    "plt.colorbar()\n",
    "plt.title(\"accuracy\")"
   ]
  },
  {
   "cell_type": "code",
   "execution_count": null,
   "id": "18657f75",
   "metadata": {},
   "outputs": [],
   "source": []
  },
  {
   "cell_type": "code",
   "execution_count": 89,
   "id": "b29631a1",
   "metadata": {},
   "outputs": [
    {
     "ename": "RuntimeError",
     "evalue": "The size of tensor a (20) must match the size of tensor b (100) at non-singleton dimension 1",
     "output_type": "error",
     "traceback": [
      "\u001b[1;31m---------------------------------------------------------------------------\u001b[0m",
      "\u001b[1;31mRuntimeError\u001b[0m                              Traceback (most recent call last)",
      "\u001b[1;32m~\\AppData\\Local\\Temp/ipykernel_84032/4103521882.py\u001b[0m in \u001b[0;36m<module>\u001b[1;34m\u001b[0m\n\u001b[0;32m     16\u001b[0m \u001b[1;33m\u001b[0m\u001b[0m\n\u001b[0;32m     17\u001b[0m \u001b[1;31m# main nn object\u001b[0m\u001b[1;33m\u001b[0m\u001b[1;33m\u001b[0m\u001b[0m\n\u001b[1;32m---> 18\u001b[1;33m \u001b[1;32mclass\u001b[0m \u001b[0mMLP\u001b[0m\u001b[1;33m(\u001b[0m\u001b[0mtorch\u001b[0m\u001b[1;33m.\u001b[0m\u001b[0mnn\u001b[0m\u001b[1;33m.\u001b[0m\u001b[0mModule\u001b[0m\u001b[1;33m)\u001b[0m\u001b[1;33m:\u001b[0m\u001b[1;33m\u001b[0m\u001b[1;33m\u001b[0m\u001b[0m\n\u001b[0m\u001b[0;32m     19\u001b[0m     \u001b[1;32mdef\u001b[0m \u001b[0m__init__\u001b[0m\u001b[1;33m(\u001b[0m\u001b[0mself\u001b[0m\u001b[1;33m)\u001b[0m\u001b[1;33m:\u001b[0m\u001b[1;33m\u001b[0m\u001b[1;33m\u001b[0m\u001b[0m\n\u001b[0;32m     20\u001b[0m         \u001b[0msuper\u001b[0m\u001b[1;33m(\u001b[0m\u001b[0mMLP\u001b[0m\u001b[1;33m,\u001b[0m \u001b[0mself\u001b[0m\u001b[1;33m)\u001b[0m\u001b[1;33m.\u001b[0m\u001b[0m__init__\u001b[0m\u001b[1;33m(\u001b[0m\u001b[1;33m)\u001b[0m\u001b[1;33m\u001b[0m\u001b[1;33m\u001b[0m\u001b[0m\n",
      "\u001b[1;32m~\\AppData\\Local\\Temp/ipykernel_84032/4103521882.py\u001b[0m in \u001b[0;36mMLP\u001b[1;34m()\u001b[0m\n\u001b[0;32m     34\u001b[0m \u001b[1;33m\u001b[0m\u001b[0m\n\u001b[0;32m     35\u001b[0m     \u001b[1;31m# forward propagate\u001b[0m\u001b[1;33m\u001b[0m\u001b[1;33m\u001b[0m\u001b[0m\n\u001b[1;32m---> 36\u001b[1;33m     \u001b[0mout\u001b[0m\u001b[1;33m,\u001b[0m \u001b[0mlayer1_out\u001b[0m\u001b[1;33m,\u001b[0m \u001b[0mlayer2_out\u001b[0m\u001b[1;33m,\u001b[0m\u001b[0mlayer3_out\u001b[0m\u001b[1;33m=\u001b[0m \u001b[0mmodel\u001b[0m\u001b[1;33m(\u001b[0m\u001b[0minputs\u001b[0m\u001b[1;33m)\u001b[0m\u001b[1;33m\u001b[0m\u001b[1;33m\u001b[0m\u001b[0m\n\u001b[0m\u001b[0;32m     37\u001b[0m \u001b[1;33m\u001b[0m\u001b[0m\n\u001b[0;32m     38\u001b[0m \u001b[1;33m\u001b[0m\u001b[0m\n",
      "\u001b[1;32mC:\\ProgramData\\Anaconda3\\lib\\site-packages\\torch\\nn\\modules\\module.py\u001b[0m in \u001b[0;36m_call_impl\u001b[1;34m(self, *input, **kwargs)\u001b[0m\n\u001b[0;32m   1128\u001b[0m         if not (self._backward_hooks or self._forward_hooks or self._forward_pre_hooks or _global_backward_hooks\n\u001b[0;32m   1129\u001b[0m                 or _global_forward_hooks or _global_forward_pre_hooks):\n\u001b[1;32m-> 1130\u001b[1;33m             \u001b[1;32mreturn\u001b[0m \u001b[0mforward_call\u001b[0m\u001b[1;33m(\u001b[0m\u001b[1;33m*\u001b[0m\u001b[0minput\u001b[0m\u001b[1;33m,\u001b[0m \u001b[1;33m**\u001b[0m\u001b[0mkwargs\u001b[0m\u001b[1;33m)\u001b[0m\u001b[1;33m\u001b[0m\u001b[1;33m\u001b[0m\u001b[0m\n\u001b[0m\u001b[0;32m   1131\u001b[0m         \u001b[1;31m# Do not call functions when jit is used\u001b[0m\u001b[1;33m\u001b[0m\u001b[1;33m\u001b[0m\u001b[0m\n\u001b[0;32m   1132\u001b[0m         \u001b[0mfull_backward_hooks\u001b[0m\u001b[1;33m,\u001b[0m \u001b[0mnon_full_backward_hooks\u001b[0m \u001b[1;33m=\u001b[0m \u001b[1;33m[\u001b[0m\u001b[1;33m]\u001b[0m\u001b[1;33m,\u001b[0m \u001b[1;33m[\u001b[0m\u001b[1;33m]\u001b[0m\u001b[1;33m\u001b[0m\u001b[1;33m\u001b[0m\u001b[0m\n",
      "\u001b[1;32m~\\AppData\\Local\\Temp/ipykernel_84032/1780203480.py\u001b[0m in \u001b[0;36mforward\u001b[1;34m(self, x)\u001b[0m\n\u001b[0;32m     26\u001b[0m \u001b[1;33m\u001b[0m\u001b[0m\n\u001b[0;32m     27\u001b[0m     \u001b[1;32mdef\u001b[0m \u001b[0mforward\u001b[0m\u001b[1;33m(\u001b[0m\u001b[0mself\u001b[0m\u001b[1;33m,\u001b[0m \u001b[0mx\u001b[0m\u001b[1;33m)\u001b[0m\u001b[1;33m:\u001b[0m\u001b[1;33m\u001b[0m\u001b[1;33m\u001b[0m\u001b[0m\n\u001b[1;32m---> 28\u001b[1;33m         \u001b[0mlayer1_out\u001b[0m \u001b[1;33m=\u001b[0m \u001b[0mself\u001b[0m\u001b[1;33m.\u001b[0m\u001b[0mlinear1\u001b[0m\u001b[1;33m*\u001b[0m\u001b[0mx\u001b[0m\u001b[1;33m\u001b[0m\u001b[1;33m\u001b[0m\u001b[0m\n\u001b[0m\u001b[0;32m     29\u001b[0m         \u001b[0mlayer2_out\u001b[0m \u001b[1;33m=\u001b[0m \u001b[0mF\u001b[0m\u001b[1;33m.\u001b[0m\u001b[0mrelu\u001b[0m\u001b[1;33m(\u001b[0m\u001b[0mself\u001b[0m\u001b[1;33m.\u001b[0m\u001b[0mlinear2\u001b[0m\u001b[1;33m(\u001b[0m\u001b[0mlayer1_out\u001b[0m\u001b[1;33m)\u001b[0m\u001b[1;33m)\u001b[0m\u001b[1;33m\u001b[0m\u001b[1;33m\u001b[0m\u001b[0m\n\u001b[0;32m     30\u001b[0m         \u001b[0mlayer3_out\u001b[0m \u001b[1;33m=\u001b[0m \u001b[0mF\u001b[0m\u001b[1;33m.\u001b[0m\u001b[0mrelu\u001b[0m\u001b[1;33m(\u001b[0m\u001b[0mself\u001b[0m\u001b[1;33m.\u001b[0m\u001b[0mlinear3\u001b[0m\u001b[1;33m(\u001b[0m\u001b[0mlayer2_out\u001b[0m\u001b[1;33m)\u001b[0m\u001b[1;33m)\u001b[0m\u001b[1;33m\u001b[0m\u001b[1;33m\u001b[0m\u001b[0m\n",
      "\u001b[1;31mRuntimeError\u001b[0m: The size of tensor a (20) must match the size of tensor b (100) at non-singleton dimension 1"
     ]
    }
   ],
   "source": [
    "################## training stage ##################\n",
    "\n",
    "# set hyperparamters\n",
    "lambda1,lambda2 = 0.03,0.0001\n",
    "learning_rate=0.1\n",
    "max_iteration=1000\n",
    "\n",
    "# switch training set\n",
    "inputs,targets = train_x1,train_y1\n",
    "\n",
    "# switching testing set\n",
    "test_inputs, test_targets = test_x1,test_y1\n",
    "\n",
    "# record loss descent\n",
    "BCE=[]\n",
    "\n",
    "# main nn object\n",
    "class MLP(torch.nn.Module):\n",
    "    def __init__(self):\n",
    "        super(MLP, self).__init__()\n",
    "        \n",
    "        self.linear1 = torch.nn.Parameter(torch.randn(p))\n",
    "        self.linear2 = torch.nn.Linear(p,10)\n",
    "        self.linear3 = torch.nn.Linear(10,10)\n",
    "        self.linear4 = torch.nn.Linear(10,1)\n",
    "\n",
    "    def forward(self, x):\n",
    "        layer1_out = self.linear1*x\n",
    "        layer2_out = F.relu(self.linear2(layer1_out))\n",
    "        layer3_out = F.relu(self.linear3(layer2_out))\n",
    "        out= torch.sigmoid(self.linear4(layer3_out))\n",
    "        return out, layer1_out, layer2_out,layer3_out \n",
    "    optimizer.zero_grad()\n",
    "    \n",
    "    # forward propagate\n",
    "    out, layer1_out, layer2_out,layer3_out= model(inputs)\n",
    "    \n",
    "    \n",
    "    \n",
    "    # extract parameters\n",
    "    #[:-1] for leaving out bias term#\n",
    "    all_linear1_params = model.linear1\n",
    "    all_linear2_params = torch.cat([x.view(-1) for x in model.linear2.parameters()][:-1])\n",
    "\n",
    "    # compute loss\n",
    "    BCE_loss = loss_fn(out, targets.reshape(-1,1))\n",
    "    l1_regularization = lambda1 * torch.norm(all_linear1_params, 1)\n",
    "    l2_regularization = lambda2 * torch.norm(all_linear2_params, 2)\n",
    "    loss = BCE_loss + l1_regularization + l2_regularization\n",
    "    \n",
    "    # record loss\n",
    "    BCE.append(BCE_loss.item())\n",
    "    \n",
    "    # compute derivative\n",
    "    loss.backward()\n",
    "    \n",
    "    # gradient descent\n",
    "    optimizer.step()\n",
    "    \n",
    "    # learning rate decay\n",
    "    scheduler.step()\n",
    "\n",
    "\n",
    "\n",
    "\n"
   ]
  }
 ],
 "metadata": {
  "kernelspec": {
   "display_name": "Python 3 (ipykernel)",
   "language": "python",
   "name": "python3"
  },
  "language_info": {
   "codemirror_mode": {
    "name": "ipython",
    "version": 3
   },
   "file_extension": ".py",
   "mimetype": "text/x-python",
   "name": "python",
   "nbconvert_exporter": "python",
   "pygments_lexer": "ipython3",
   "version": "3.9.7"
  }
 },
 "nbformat": 4,
 "nbformat_minor": 5
}
